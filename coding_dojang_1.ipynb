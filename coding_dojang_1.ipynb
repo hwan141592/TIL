{
 "cells": [
  {
   "cell_type": "markdown",
   "metadata": {},
   "source": [
    "Computational Thinking (4가지 요소)\n",
    " - 분해 : 복잡한 문제를 작은 문제로 나눈다.\n",
    " - 패턴 인식 : 문제 안에서 유사성을 발견한다.\n",
    " - 추상화 : 문제의 핵심에만 집중하고, 부차적인 것은 제외한다.\n",
    " - 알고리즘 : 이렇게 정의한 문제를 해결하는 절차"
   ]
  },
  {
   "cell_type": "markdown",
   "metadata": {},
   "source": [
    "Computational Thinking v.s Algorithm\n",
    " - 알고리즘 : 대부분 정형화된 문제에 대해 검증된 해법을 제시하는 과정\n",
    " - Computational Thinking : 비정형화된 문제를 컴퓨터로 해결하는 과정.\n",
    "   - 즉, 문제를 이해하고 분해, 패턴 인식, 추상화, 알고리즘 작성까지의 과정."
   ]
  },
  {
   "cell_type": "code",
   "execution_count": 5,
   "metadata": {},
   "outputs": [
    {
     "name": "stdout",
     "output_type": "stream",
     "text": [
      "2 1\n"
     ]
    }
   ],
   "source": [
    "# 나눗셈 몫&나머지 변수들에 한 번에 할당하기\n",
    "quotient, remainder = divmod(5,2)\n",
    "print(quotient, remainder)"
   ]
  },
  {
   "cell_type": "markdown",
   "metadata": {},
   "source": [
    "진수/8진수/16진수\n",
    " - 2진수 : 숫자 앞에 0b를 붙임 / 0, 1을 이용\n",
    " - 8진수 : 숫자 앞에 0o를 붙임 / 0~7을 이용\n",
    " - 16진수 : 숫자 앞에 0x를 붙임 / 0~9, A~F를 이용"
   ]
  },
  {
   "cell_type": "markdown",
   "metadata": {},
   "source": [
    "변수와 입력 사용\n",
    " - 값을 입력받아 변수에 할당하기"
   ]
  },
  {
   "cell_type": "code",
   "execution_count": 10,
   "metadata": {},
   "outputs": [
    {
     "name": "stdout",
     "output_type": "stream",
     "text": [
      "type 2 strings : 10 20\n",
      "10\n",
      "20\n"
     ]
    }
   ],
   "source": [
    "a, b = input(\"type 2 strings : \").split()\n",
    "a, b = int(a), int(b)   #정수로 변환\n",
    "print(a); print(b)"
   ]
  },
  {
   "cell_type": "markdown",
   "metadata": {},
   "source": [
    "#### map을 사용하여 정수로 변환하기"
   ]
  },
  {
   "cell_type": "code",
   "execution_count": 11,
   "metadata": {},
   "outputs": [
    {
     "name": "stdout",
     "output_type": "stream",
     "text": [
      "숫자 2개 입력 : 10 20\n",
      "30\n"
     ]
    }
   ],
   "source": [
    "a, b = map(int, input('숫자 2개 입력 : ').split())\n",
    "print(a+b)"
   ]
  },
  {
   "cell_type": "markdown",
   "metadata": {},
   "source": [
    "입력받은 값을 콤마 기준으로 분리"
   ]
  },
  {
   "cell_type": "code",
   "execution_count": 13,
   "metadata": {},
   "outputs": [
    {
     "name": "stdout",
     "output_type": "stream",
     "text": [
      "숫자 2개 입력 : 10,20\n",
      "10 20\n"
     ]
    }
   ],
   "source": [
    "a, b = map(int, input('숫자 2개 입력 : ').split(','))\n",
    "print(a,b)"
   ]
  },
  {
   "cell_type": "markdown",
   "metadata": {},
   "source": [
    "#### input()과 split()의 결과는 모두 string 이라는 점이 중요!"
   ]
  },
  {
   "cell_type": "code",
   "execution_count": 16,
   "metadata": {},
   "outputs": [
    {
     "name": "stdout",
     "output_type": "stream",
     "text": [
      "10 20 30\n",
      "60\n"
     ]
    }
   ],
   "source": [
    "a,b,c = map(int, input().split())\n",
    "print(a+b+c)"
   ]
  },
  {
   "cell_type": "markdown",
   "metadata": {},
   "source": [
    "출력 방식 : sep 이용"
   ]
  },
  {
   "cell_type": "code",
   "execution_count": 18,
   "metadata": {},
   "outputs": [
    {
     "name": "stdout",
     "output_type": "stream",
     "text": [
      "1, 2, 3\n",
      "4,5,6\n",
      "hi python\n",
      "10x20\n"
     ]
    }
   ],
   "source": [
    "print(1, 2, 3, sep=', ')\n",
    "print(4, 5, 6, sep=',')\n",
    "print('hi','python', sep=' ')\n",
    "print(10,20,sep='x')"
   ]
  },
  {
   "cell_type": "markdown",
   "metadata": {},
   "source": [
    "출력 방식 : 개행"
   ]
  },
  {
   "cell_type": "code",
   "execution_count": 19,
   "metadata": {},
   "outputs": [
    {
     "name": "stdout",
     "output_type": "stream",
     "text": [
      "1\n",
      "2\n",
      "3\n"
     ]
    }
   ],
   "source": [
    "print(1, 2, 3, sep='\\n')"
   ]
  },
  {
   "cell_type": "code",
   "execution_count": 20,
   "metadata": {},
   "outputs": [
    {
     "name": "stdout",
     "output_type": "stream",
     "text": [
      "1\n",
      "2\n",
      "3\n"
     ]
    }
   ],
   "source": [
    "print('1\\n2\\n3')"
   ]
  },
  {
   "cell_type": "markdown",
   "metadata": {},
   "source": [
    "제어 문자\n",
    " - 제어문자는 화면에 출력되지는 않지만 출력 결과를 제어한다고 해서 제어 문자라고 부름.\n",
    " - 제어문자는 \\로 시작하는 Escape Sequence임.\n",
    " - \\n : 다음줄로 이동 (개행)\n",
    " - \\t : 탭 문자, 키보드의 Tab 키와 같으며 여러 칸을 띄움\n",
    " - \\\\ : \\ 문자 자첼르 출력할 때 \\를 두 번 써야 함"
   ]
  },
  {
   "cell_type": "markdown",
   "metadata": {},
   "source": [
    "lend 이용해보기"
   ]
  },
  {
   "cell_type": "code",
   "execution_count": 24,
   "metadata": {},
   "outputs": [
    {
     "name": "stdout",
     "output_type": "stream",
     "text": [
      "123 4 5\n"
     ]
    }
   ],
   "source": [
    "print(1, end='')   # end에 빈 문자열 또ㄴ느 문자열 또는 문자를 입력\n",
    "print(2, end='')\n",
    "print(3, end=' ')\n",
    "print(4, end=' ')\n",
    "print(5)"
   ]
  },
  {
   "cell_type": "code",
   "execution_count": null,
   "metadata": {},
   "outputs": [],
   "source": []
  }
 ],
 "metadata": {
  "kernelspec": {
   "display_name": "Python 3",
   "language": "python",
   "name": "python3"
  },
  "language_info": {
   "codemirror_mode": {
    "name": "ipython",
    "version": 3
   },
   "file_extension": ".py",
   "mimetype": "text/x-python",
   "name": "python",
   "nbconvert_exporter": "python",
   "pygments_lexer": "ipython3",
   "version": "3.8.3"
  }
 },
 "nbformat": 4,
 "nbformat_minor": 4
}
