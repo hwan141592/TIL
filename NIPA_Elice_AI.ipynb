{
 "cells": [
  {
   "cell_type": "markdown",
   "metadata": {},
   "source": [
    "add columns"
   ]
  },
  {
   "cell_type": "code",
   "execution_count": null,
   "metadata": {},
   "outputs": [],
   "source": [
    "# ma5 = df['Adj Close'].rolling(window=5).mean()\n",
    "# ma20 = df['Adj Close'].rolling(window=20).mean()\n",
    "# ma60 = df['Adj Close'].rolling(window=60).mean()\n",
    "\n",
    "# df.insert(len(df.columns), \"MA5\", ma5)\n",
    "# df.insert(len(df.columns), \"MA20\", ma20)\n",
    "# df.insert(len(df.columns), \"MA60\", ma60)\n",
    "\n",
    "# vma5 = df['Volume'].rolling(window=5).mean()\n",
    "# df.insert(len(df.columns), \"VMA5\", vma5)"
   ]
  },
  {
   "cell_type": "markdown",
   "metadata": {},
   "source": [
    "plot"
   ]
  },
  {
   "cell_type": "code",
   "execution_count": null,
   "metadata": {},
   "outputs": [],
   "source": [
    "# plt.plot(df.index, df['MA5'], label = \"MA5\")\n",
    "# plt.legend(loc = 'best') # 라벨 위치 설정\n",
    "# plt.xticks(rotation = 45) # x축 각도\n",
    "# plt.grid() # 격자\n",
    "\n",
    "# plt.savefig(\"plot.png\")"
   ]
  },
  {
   "cell_type": "markdown",
   "metadata": {},
   "source": [
    "multi-plot"
   ]
  },
  {
   "cell_type": "code",
   "execution_count": null,
   "metadata": {},
   "outputs": [],
   "source": [
    "# #차트에 표현할 요소 설정\n",
    "# plt.plot(df['Adj Close'], label=\"Adj Close\")\n",
    "# plt.plot(df['MA5'], label=\"MA5\")\n",
    "# plt.plot(df['MA20'], label=\"MA20\")\n",
    "# plt.plot(df['MA60'], label=\"MA60\")\n",
    "\n",
    "# #'best'를 인자로 주어 가장 적절한 자리에 위치하게 함\n",
    "# plt.legend(loc='best')\n",
    "\n",
    "# #격자 그리기\n",
    "# plt.grid()\n",
    "\n",
    "# # 현재까지 그려진 그래프를 보여줌\n",
    "# plt.savefig(\"plot.png\")"
   ]
  },
  {
   "cell_type": "code",
   "execution_count": null,
   "metadata": {},
   "outputs": [],
   "source": []
  }
 ],
 "metadata": {
  "kernelspec": {
   "display_name": "Python 3",
   "language": "python",
   "name": "python3"
  },
  "language_info": {
   "codemirror_mode": {
    "name": "ipython",
    "version": 3
   },
   "file_extension": ".py",
   "mimetype": "text/x-python",
   "name": "python",
   "nbconvert_exporter": "python",
   "pygments_lexer": "ipython3",
   "version": "3.8.3"
  }
 },
 "nbformat": 4,
 "nbformat_minor": 4
}
