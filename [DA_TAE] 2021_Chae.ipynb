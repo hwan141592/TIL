{
 "cells": [
  {
   "cell_type": "code",
   "execution_count": 1,
   "metadata": {},
   "outputs": [],
   "source": [
    "import os\n",
    "import numpy as np\n",
    "import pandas as pd\n",
    "import matplotlib.pyplot as plt\n",
    "import seaborn as sns\n",
    "\n",
    "from pandasql import sqldf\n",
    "pysqldf = lambda q: sqldf(q,globals())"
   ]
  },
  {
   "cell_type": "code",
   "execution_count": 2,
   "metadata": {},
   "outputs": [
    {
     "data": {
      "text/plain": [
       "'/Desktop/git_repos/TIL'"
      ]
     },
     "execution_count": 2,
     "metadata": {},
     "output_type": "execute_result"
    }
   ],
   "source": [
    "os.getcwd()[11:]"
   ]
  },
  {
   "cell_type": "code",
   "execution_count": 3,
   "metadata": {},
   "outputs": [
    {
     "data": {
      "text/html": [
       "<div>\n",
       "<style scoped>\n",
       "    .dataframe tbody tr th:only-of-type {\n",
       "        vertical-align: middle;\n",
       "    }\n",
       "\n",
       "    .dataframe tbody tr th {\n",
       "        vertical-align: top;\n",
       "    }\n",
       "\n",
       "    .dataframe thead th {\n",
       "        text-align: right;\n",
       "    }\n",
       "</style>\n",
       "<table border=\"1\" class=\"dataframe\">\n",
       "  <thead>\n",
       "    <tr style=\"text-align: right;\">\n",
       "      <th></th>\n",
       "      <th>region</th>\n",
       "      <th>TO_2021</th>\n",
       "      <th>TO_2020</th>\n",
       "      <th>TO_2019</th>\n",
       "      <th>TO_2018</th>\n",
       "      <th>cr_2021</th>\n",
       "      <th>cr_2020</th>\n",
       "      <th>cr_2019</th>\n",
       "      <th>cr_2018</th>\n",
       "      <th>cut_2021</th>\n",
       "      <th>cut_2020</th>\n",
       "      <th>cut_2019</th>\n",
       "      <th>cut_2018</th>\n",
       "    </tr>\n",
       "  </thead>\n",
       "  <tbody>\n",
       "    <tr>\n",
       "      <th>0</th>\n",
       "      <td>서울</td>\n",
       "      <td>25</td>\n",
       "      <td>43</td>\n",
       "      <td>38</td>\n",
       "      <td>51</td>\n",
       "      <td>19.0</td>\n",
       "      <td>20.60</td>\n",
       "      <td>34.13</td>\n",
       "      <td>0</td>\n",
       "      <td>84.0</td>\n",
       "      <td>84.66</td>\n",
       "      <td>87.3</td>\n",
       "      <td>81.7</td>\n",
       "    </tr>\n",
       "    <tr>\n",
       "      <th>1</th>\n",
       "      <td>경기</td>\n",
       "      <td>82</td>\n",
       "      <td>57</td>\n",
       "      <td>39</td>\n",
       "      <td>64</td>\n",
       "      <td>15.4</td>\n",
       "      <td>17.07</td>\n",
       "      <td>21.18</td>\n",
       "      <td>0</td>\n",
       "      <td>85.0</td>\n",
       "      <td>81.67</td>\n",
       "      <td>82</td>\n",
       "      <td>80.7</td>\n",
       "    </tr>\n",
       "  </tbody>\n",
       "</table>\n",
       "</div>"
      ],
      "text/plain": [
       "  region  TO_2021  TO_2020  TO_2019  TO_2018  cr_2021  cr_2020  cr_2019  \\\n",
       "0     서울       25       43       38       51     19.0    20.60    34.13   \n",
       "1     경기       82       57       39       64     15.4    17.07    21.18   \n",
       "\n",
       "   cr_2018  cut_2021  cut_2020 cut_2019  cut_2018  \n",
       "0        0      84.0     84.66     87.3      81.7  \n",
       "1        0      85.0     81.67       82      80.7  "
      ]
     },
     "execution_count": 3,
     "metadata": {},
     "output_type": "execute_result"
    }
   ],
   "source": [
    "d_orig = pd.read_csv('../TIL_data/data_TAE.csv')\n",
    "d = d_orig.copy()\n",
    "d.head(2)"
   ]
  },
  {
   "cell_type": "code",
   "execution_count": 4,
   "metadata": {},
   "outputs": [],
   "source": [
    "li_cr_2018 = [26.80, 21.90, 39.00, 22.90, 40.40, 47.00,\n",
    "              43.00, 0, 26.20, 25.40, 27.90, 23.20, 0, 33.20,\n",
    "              25.50, 22.90, 14.60]"
   ]
  },
  {
   "cell_type": "code",
   "execution_count": 5,
   "metadata": {},
   "outputs": [
    {
     "data": {
      "text/html": [
       "<div>\n",
       "<style scoped>\n",
       "    .dataframe tbody tr th:only-of-type {\n",
       "        vertical-align: middle;\n",
       "    }\n",
       "\n",
       "    .dataframe tbody tr th {\n",
       "        vertical-align: top;\n",
       "    }\n",
       "\n",
       "    .dataframe thead th {\n",
       "        text-align: right;\n",
       "    }\n",
       "</style>\n",
       "<table border=\"1\" class=\"dataframe\">\n",
       "  <thead>\n",
       "    <tr style=\"text-align: right;\">\n",
       "      <th></th>\n",
       "      <th>region</th>\n",
       "      <th>TO_2021</th>\n",
       "      <th>TO_2020</th>\n",
       "      <th>TO_2019</th>\n",
       "      <th>TO_2018</th>\n",
       "      <th>cr_2021</th>\n",
       "      <th>cr_2020</th>\n",
       "      <th>cr_2019</th>\n",
       "      <th>cr_2018</th>\n",
       "      <th>cut_2021</th>\n",
       "      <th>cut_2020</th>\n",
       "      <th>cut_2019</th>\n",
       "      <th>cut_2018</th>\n",
       "    </tr>\n",
       "  </thead>\n",
       "  <tbody>\n",
       "    <tr>\n",
       "      <th>0</th>\n",
       "      <td>서울</td>\n",
       "      <td>25</td>\n",
       "      <td>43</td>\n",
       "      <td>38</td>\n",
       "      <td>51</td>\n",
       "      <td>19.0</td>\n",
       "      <td>20.60</td>\n",
       "      <td>34.13</td>\n",
       "      <td>26.8</td>\n",
       "      <td>84.0</td>\n",
       "      <td>84.66</td>\n",
       "      <td>87.3</td>\n",
       "      <td>81.7</td>\n",
       "    </tr>\n",
       "    <tr>\n",
       "      <th>1</th>\n",
       "      <td>경기</td>\n",
       "      <td>82</td>\n",
       "      <td>57</td>\n",
       "      <td>39</td>\n",
       "      <td>64</td>\n",
       "      <td>15.4</td>\n",
       "      <td>17.07</td>\n",
       "      <td>21.18</td>\n",
       "      <td>21.9</td>\n",
       "      <td>85.0</td>\n",
       "      <td>81.67</td>\n",
       "      <td>82</td>\n",
       "      <td>80.7</td>\n",
       "    </tr>\n",
       "  </tbody>\n",
       "</table>\n",
       "</div>"
      ],
      "text/plain": [
       "  region  TO_2021  TO_2020  TO_2019  TO_2018  cr_2021  cr_2020  cr_2019  \\\n",
       "0     서울       25       43       38       51     19.0    20.60    34.13   \n",
       "1     경기       82       57       39       64     15.4    17.07    21.18   \n",
       "\n",
       "   cr_2018  cut_2021  cut_2020 cut_2019  cut_2018  \n",
       "0     26.8      84.0     84.66     87.3      81.7  \n",
       "1     21.9      85.0     81.67       82      80.7  "
      ]
     },
     "execution_count": 5,
     "metadata": {},
     "output_type": "execute_result"
    }
   ],
   "source": [
    "d['cr_2018'] = li_cr_2018\n",
    "d.head(2)"
   ]
  },
  {
   "cell_type": "code",
   "execution_count": null,
   "metadata": {},
   "outputs": [],
   "source": []
  }
 ],
 "metadata": {
  "kernelspec": {
   "display_name": "Python 3",
   "language": "python",
   "name": "python3"
  },
  "language_info": {
   "codemirror_mode": {
    "name": "ipython",
    "version": 3
   },
   "file_extension": ".py",
   "mimetype": "text/x-python",
   "name": "python",
   "nbconvert_exporter": "python",
   "pygments_lexer": "ipython3",
   "version": "3.8.3"
  }
 },
 "nbformat": 4,
 "nbformat_minor": 4
}
