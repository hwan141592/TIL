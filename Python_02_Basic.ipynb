{
 "cells": [
  {
   "cell_type": "markdown",
   "metadata": {},
   "source": [
    "#### In this page...\n",
    " - if phrase"
   ]
  },
  {
   "cell_type": "markdown",
   "metadata": {},
   "source": [
    "Conditional Expression"
   ]
  },
  {
   "cell_type": "code",
   "execution_count": 3,
   "metadata": {},
   "outputs": [
    {
     "data": {
      "text/plain": [
       "0"
      ]
     },
     "execution_count": 3,
     "metadata": {},
     "output_type": "execute_result"
    }
   ],
   "source": [
    "x = 5 \n",
    "y = x if x==10 else 0\n",
    "y"
   ]
  },
  {
   "cell_type": "code",
   "execution_count": 6,
   "metadata": {},
   "outputs": [
    {
     "name": "stdout",
     "output_type": "stream",
     "text": [
      "true_1\n",
      "false_2\n",
      "false_3\n"
     ]
    }
   ],
   "source": [
    "if True:\n",
    "    print('true_1')\n",
    "else:\n",
    "    print('false_1')\n",
    "\n",
    "if False:\n",
    "    print('true_2')\n",
    "else:\n",
    "    print('false_2')\n",
    "    \n",
    "if None:\n",
    "    print('true_3')\n",
    "else:\n",
    "    print('false_3')"
   ]
  },
  {
   "cell_type": "code",
   "execution_count": 15,
   "metadata": {},
   "outputs": [
    {
     "name": "stdout",
     "output_type": "stream",
     "text": [
      "false_1\n",
      "true_2\n",
      "true_3\n",
      "true_4\n",
      "true_5\n"
     ]
    }
   ],
   "source": [
    "if 0 : print('true_1') \n",
    "else : print('false_1')\n",
    "    \n",
    "if 1 : print('true_2') \n",
    "else : print('false_2')\n",
    "\n",
    "if 13.5 : print('true_3') \n",
    "else : print('false_3')\n",
    "\n",
    "if 0x1F : print('true_4') \n",
    "else : print('false_4')\n",
    "\n",
    "if 0b1000 : print('true_5') \n",
    "else : print('false_5')"
   ]
  },
  {
   "cell_type": "code",
   "execution_count": 16,
   "metadata": {},
   "outputs": [
    {
     "name": "stdout",
     "output_type": "stream",
     "text": [
      "true_1\n",
      "false_2\n"
     ]
    }
   ],
   "source": [
    "if 'hi' : print('true_1') \n",
    "else : print('false_1')\n",
    "    \n",
    "if '' : print('true_2') \n",
    "else : print('false_2')"
   ]
  },
  {
   "cell_type": "markdown",
   "metadata": {},
   "source": [
    "#### Summary\n",
    " - return True : numbers(except 0), strings,...\n",
    " - return False : 0, None, '', [], (), {}, SET() ... "
   ]
  },
  {
   "cell_type": "code",
   "execution_count": 27,
   "metadata": {},
   "outputs": [
    {
     "name": "stdout",
     "output_type": "stream",
     "text": [
      "90 85 99 91\n",
      "pass\n"
     ]
    }
   ],
   "source": [
    "a,b,c,d = map(int, input().split())\n",
    "if 0<=a<=100 and 0<=b<=100 and 0<=c<=100 and 0<=d<=100 :    \n",
    "    if (a+b+c+d)/4 >= 80:\n",
    "        print('pass')\n",
    "    else:\n",
    "        print('non-pass')\n",
    "else :\n",
    "    print('wrong input')"
   ]
  },
  {
   "cell_type": "code",
   "execution_count": 35,
   "metadata": {},
   "outputs": [
    {
     "name": "stdout",
     "output_type": "stream",
     "text": [
      "6500\n"
     ]
    }
   ],
   "source": [
    "if 7<=age<=12 :\n",
    "    balance = balance - 650\n",
    "elif 13<=age<=18 :\n",
    "    balance = balance - 1050\n",
    "elif age>=19:\n",
    "    balance = balance - 1250\n",
    "\n",
    "print(balance)"
   ]
  },
  {
   "cell_type": "markdown",
   "metadata": {},
   "source": [
    "#### for phrase\n",
    " - range / increase values / decrease values"
   ]
  },
  {
   "cell_type": "code",
   "execution_count": 2,
   "metadata": {},
   "outputs": [
    {
     "name": "stdout",
     "output_type": "stream",
     "text": [
      "hi,increasing 0\n",
      "hi,increasing 2\n",
      "hi,increasing 4\n",
      "hi,increasing 6\n",
      "hi,increasing 8\n"
     ]
    }
   ],
   "source": [
    "for i in range(0,10,2):\n",
    "    print('hi,increasing',i)"
   ]
  },
  {
   "cell_type": "code",
   "execution_count": 5,
   "metadata": {},
   "outputs": [
    {
     "name": "stdout",
     "output_type": "stream",
     "text": [
      "hi, decreasing 10\n",
      "hi, decreasing 8\n",
      "hi, decreasing 6\n",
      "hi, decreasing 4\n",
      "hi, decreasing 2\n"
     ]
    }
   ],
   "source": [
    "for i in range(10,0,-2):\n",
    "    print('hi, decreasing',i)"
   ]
  },
  {
   "cell_type": "markdown",
   "metadata": {},
   "source": [
    "reversed 이용"
   ]
  },
  {
   "cell_type": "code",
   "execution_count": 8,
   "metadata": {},
   "outputs": [
    {
     "name": "stdout",
     "output_type": "stream",
     "text": [
      "hi 4\n",
      "hi 3\n",
      "hi 2\n",
      "hi 1\n",
      "hi 0\n"
     ]
    }
   ],
   "source": [
    "for i in reversed(range(5)):\n",
    "    print('hi',i)"
   ]
  },
  {
   "cell_type": "code",
   "execution_count": 10,
   "metadata": {},
   "outputs": [
    {
     "name": "stdout",
     "output_type": "stream",
     "text": [
      "0 1 2 3 4 5 6 7 8 9 "
     ]
    }
   ],
   "source": [
    "for i in range(10):\n",
    "    print(i, end=' ')\n",
    "    i = 10   # no effect"
   ]
  },
  {
   "cell_type": "markdown",
   "metadata": {},
   "source": [
    "use sequence object(list, tuple, ...) into for phrase"
   ]
  },
  {
   "cell_type": "code",
   "execution_count": 12,
   "metadata": {},
   "outputs": [
    {
     "name": "stdout",
     "output_type": "stream",
     "text": [
      "1 2 3 4 5 "
     ]
    }
   ],
   "source": [
    "a = [1,2,3,4,5]\n",
    "for i in a:\n",
    "    print(i,end=' ')"
   ]
  },
  {
   "cell_type": "code",
   "execution_count": 13,
   "metadata": {},
   "outputs": [
    {
     "name": "stdout",
     "output_type": "stream",
     "text": [
      "aaa bb c "
     ]
    }
   ],
   "source": [
    "a = ('aaa','bb','c')\n",
    "for i in a:\n",
    "    print(i,end=' ')"
   ]
  },
  {
   "cell_type": "code",
   "execution_count": 14,
   "metadata": {},
   "outputs": [
    {
     "name": "stdout",
     "output_type": "stream",
     "text": [
      "p y t h o n "
     ]
    }
   ],
   "source": [
    "a = 'python'\n",
    "for i in a:\n",
    "    print(i,end=' ')"
   ]
  },
  {
   "cell_type": "code",
   "execution_count": 15,
   "metadata": {},
   "outputs": [
    {
     "name": "stdout",
     "output_type": "stream",
     "text": [
      "n o h t y p "
     ]
    }
   ],
   "source": [
    "for letter in reversed('python'):\n",
    "    print(letter, end=' ')"
   ]
  },
  {
   "cell_type": "code",
   "execution_count": null,
   "metadata": {},
   "outputs": [],
   "source": [
    "ad c ac d "
   ]
  }
 ],
 "metadata": {
  "kernelspec": {
   "display_name": "Python 3",
   "language": "python",
   "name": "python3"
  },
  "language_info": {
   "codemirror_mode": {
    "name": "ipython",
    "version": 3
   },
   "file_extension": ".py",
   "mimetype": "text/x-python",
   "name": "python",
   "nbconvert_exporter": "python",
   "pygments_lexer": "ipython3",
   "version": "3.8.3"
  }
 },
 "nbformat": 4,
 "nbformat_minor": 4
}
