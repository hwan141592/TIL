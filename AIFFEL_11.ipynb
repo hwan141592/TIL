{
 "cells": [
  {
   "cell_type": "code",
   "execution_count": 7,
   "metadata": {},
   "outputs": [],
   "source": [
    "from bs4 import BeautifulSoup"
   ]
  },
  {
   "cell_type": "code",
   "execution_count": 11,
   "metadata": {},
   "outputs": [
    {
     "name": "stdout",
     "output_type": "stream",
     "text": [
      "Hey!\n",
      "Thank you\n",
      "<class 'str'>\n",
      "<class 'str'>\n"
     ]
    }
   ],
   "source": [
    "my_str = 'Hey!'\n",
    "ur_str = \"Thank you\"\n",
    "\n",
    "print(my_str)\n",
    "print(ur_str)\n",
    "print(type(my_str))\n",
    "print(type(ur_str))"
   ]
  },
  {
   "cell_type": "markdown",
   "metadata": {},
   "source": [
    "#### unicode\n",
    " - c.f) 0xAC00 : Hexadecimal of '44032'"
   ]
  },
  {
   "cell_type": "code",
   "execution_count": 16,
   "metadata": {},
   "outputs": [
    {
     "name": "stdout",
     "output_type": "stream",
     "text": [
      "ord('a') : 97\n",
      "chr(97) : a\n"
     ]
    }
   ],
   "source": [
    "var = 'a'\n",
    "print(\"ord('a') :\",ord(var))\n",
    "print('chr(97) :',chr(97))"
   ]
  },
  {
   "cell_type": "code",
   "execution_count": 23,
   "metadata": {},
   "outputs": [
    {
     "name": "stdout",
     "output_type": "stream",
     "text": [
      "97\n",
      "65\n",
      "a\n",
      "44032\n",
      "가\n"
     ]
    }
   ],
   "source": [
    "print(ord('a'))  #97\n",
    "print(ord('A'))  #65\n",
    "print(chr(97))   #a\n",
    "print(ord('가'))  #44032 \n",
    "print(chr(0xAC00))  # 가"
   ]
  },
  {
   "cell_type": "markdown",
   "metadata": {},
   "source": [
    "#### String\n",
    " - In python ver.3, String consists of 'bytes' and 'str'"
   ]
  },
  {
   "cell_type": "code",
   "execution_count": 27,
   "metadata": {},
   "outputs": [
    {
     "name": "stdout",
     "output_type": "stream",
     "text": [
      "<class 'bytes'>\n",
      "<class 'str'>\n",
      "<class 'str'>\n"
     ]
    }
   ],
   "source": [
    "str1 = b'hello'\n",
    "str2 = 'hello'\n",
    "str3 = u'hello'\n",
    "print(type(str1))   # in python2, type was string(str)\n",
    "print(type(str2))\n",
    "print(type(str3))   # in python2, type was unicode string(unicode)"
   ]
  },
  {
   "cell_type": "code",
   "execution_count": null,
   "metadata": {},
   "outputs": [],
   "source": []
  },
  {
   "cell_type": "code",
   "execution_count": null,
   "metadata": {},
   "outputs": [],
   "source": []
  },
  {
   "cell_type": "code",
   "execution_count": null,
   "metadata": {},
   "outputs": [],
   "source": []
  },
  {
   "cell_type": "code",
   "execution_count": null,
   "metadata": {},
   "outputs": [],
   "source": []
  }
 ],
 "metadata": {
  "kernelspec": {
   "display_name": "Python 3",
   "language": "python",
   "name": "python3"
  },
  "language_info": {
   "codemirror_mode": {
    "name": "ipython",
    "version": 3
   },
   "file_extension": ".py",
   "mimetype": "text/x-python",
   "name": "python",
   "nbconvert_exporter": "python",
   "pygments_lexer": "ipython3",
   "version": "3.8.3"
  }
 },
 "nbformat": 4,
 "nbformat_minor": 4
}
