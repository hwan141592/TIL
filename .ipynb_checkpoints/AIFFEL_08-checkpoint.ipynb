{
 "cells": [
  {
   "cell_type": "markdown",
   "metadata": {},
   "source": [
    "# In this page...\n",
    " - pythonic programming\n",
    " - function / lambda expression / multi-processing\n",
    " - module / class / package"
   ]
  },
  {
   "cell_type": "code",
   "execution_count": 2,
   "metadata": {},
   "outputs": [
    {
     "name": "stdout",
     "output_type": "stream",
     "text": [
      "time: 7.009506225585938e-05\n"
     ]
    }
   ],
   "source": [
    "import time\n",
    "start = time.time()\n",
    "\n",
    "a = 1\n",
    "for i in range(100):\n",
    "    a += 1\n",
    "\n",
    "\n",
    "print('time:', time.time() - start)"
   ]
  },
  {
   "cell_type": "code",
   "execution_count": 3,
   "metadata": {},
   "outputs": [
    {
     "name": "stdout",
     "output_type": "stream",
     "text": [
      "value :  a\n",
      "value :  b\n",
      "value :  c\n",
      "value :  d\n"
     ]
    }
   ],
   "source": [
    "my_list = ['a','b','c','d']\n",
    "for i in my_list :\n",
    "    print('value : ',i)"
   ]
  },
  {
   "cell_type": "markdown",
   "metadata": {},
   "source": [
    "enumerate : return order together"
   ]
  },
  {
   "cell_type": "code",
   "execution_count": 4,
   "metadata": {},
   "outputs": [
    {
     "name": "stdout",
     "output_type": "stream",
     "text": [
      "order :  0 value :  a\n",
      "order :  1 value :  b\n",
      "order :  2 value :  c\n",
      "order :  3 value :  d\n"
     ]
    }
   ],
   "source": [
    "my_list = ['a','b','c','d']\n",
    "for i,val in enumerate(my_list) :\n",
    "    print('order : ',i,'value : ',val)"
   ]
  },
  {
   "cell_type": "markdown",
   "metadata": {},
   "source": [
    "### List Comprehension\n",
    " - Comprehension : list, set, dict, all available"
   ]
  },
  {
   "cell_type": "code",
   "execution_count": 9,
   "metadata": {},
   "outputs": [
    {
     "name": "stdout",
     "output_type": "stream",
     "text": [
      "[(0, 'a'), (0, 'b'), (0, 'c'), (1, 'a'), (1, 'b'), (1, 'c')]\n"
     ]
    }
   ],
   "source": [
    "my_list = ['a','b','c']\n",
    "print( [(i,j) for i in range(2) for j in my_list] )"
   ]
  },
  {
   "cell_type": "markdown",
   "metadata": {},
   "source": [
    "### Generator\n",
    " - 2 cells below are different in \"the time when data is loaded\""
   ]
  },
  {
   "cell_type": "code",
   "execution_count": 11,
   "metadata": {},
   "outputs": [
    {
     "name": "stdout",
     "output_type": "stream",
     "text": [
      ">> 6 data loaded\n",
      "0 a\n",
      "0 b\n",
      "0 c\n",
      "1 a\n",
      "1 b\n",
      "1 c\n"
     ]
    }
   ],
   "source": [
    "my_list = ['a','b','c']\n",
    "def get_dataset_list(my_list):\n",
    "    res_list = []\n",
    "    for i in range(2):\n",
    "        for j in my_list :\n",
    "            res_list.append((i,j))\n",
    "    print('>> {} data loaded'.format(len(res_list)))\n",
    "    return res_list\n",
    "\n",
    "for X,y in get_dataset_list(my_list):\n",
    "    print(X,y)"
   ]
  },
  {
   "cell_type": "code",
   "execution_count": 14,
   "metadata": {
    "scrolled": true
   },
   "outputs": [
    {
     "name": "stdout",
     "output_type": "stream",
     "text": [
      "0 a\n",
      ">> 1 data loaded\n",
      "0 b\n",
      ">> 1 data loaded\n",
      "0 c\n",
      ">> 1 data loaded\n",
      "1 a\n",
      ">> 1 data loaded\n",
      "1 b\n",
      ">> 1 data loaded\n",
      "1 c\n",
      ">> 1 data loaded\n"
     ]
    }
   ],
   "source": [
    "my_list = ['a','b','c']\n",
    "def get_dataset_generator(my_list) :\n",
    "    res_list = []\n",
    "    for i in range(2) :\n",
    "        for j in my_list :\n",
    "            yield(i, j)\n",
    "            print('>> 1 data loaded')\n",
    "\n",
    "dataset_generator = get_dataset_generator(my_list)\n",
    "\n",
    "for X,y in dataset_generator :\n",
    "    print(X,y)"
   ]
  },
  {
   "cell_type": "markdown",
   "metadata": {},
   "source": [
    "**>>>> "
   ]
  },
  {
   "cell_type": "code",
   "execution_count": null,
   "metadata": {},
   "outputs": [],
   "source": []
  },
  {
   "cell_type": "code",
   "execution_count": null,
   "metadata": {},
   "outputs": [],
   "source": []
  }
 ],
 "metadata": {
  "kernelspec": {
   "display_name": "Python 3",
   "language": "python",
   "name": "python3"
  },
  "language_info": {
   "codemirror_mode": {
    "name": "ipython",
    "version": 3
   },
   "file_extension": ".py",
   "mimetype": "text/x-python",
   "name": "python",
   "nbconvert_exporter": "python",
   "pygments_lexer": "ipython3",
   "version": "3.8.3"
  }
 },
 "nbformat": 4,
 "nbformat_minor": 4
}
