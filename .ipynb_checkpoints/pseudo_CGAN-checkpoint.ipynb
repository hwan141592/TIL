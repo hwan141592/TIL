{
 "cells": [
  {
   "cell_type": "markdown",
   "metadata": {},
   "source": [
    "# Overall\n",
    " - CGAN\n",
    " - Conditional Generative Adversarial Nets"
   ]
  },
  {
   "cell_type": "markdown",
   "metadata": {},
   "source": [
    "### Origin\n",
    " - by Mehdi Mirza (2014.11)"
   ]
  },
  {
   "cell_type": "markdown",
   "metadata": {},
   "source": [
    "### GAN\n",
    " - 다음 2개 부분으로 이루어짐\n",
    " - non-linear하게 매핑하는 함수일 수 있음\n",
    "     1. 데이터분포를 입력받아 실제에 가깝게 데이터를 생성하는 생성모델 G\n",
    "     2. 입력받은 데이터가 진짜 데이터인지 G가 만들어낸 것인지를 판별하는 D\n",
    "     \n",
    "#### 모델의 구조\n",
    " - G\n",
    "   - Uniform Distribution z.size = 100\n",
    "   - z, y는 각각 size 200, 1000짜리 hidden layer (ReLU)로 매핑됨\n",
    "   - 1200짜리 hidden layer로 합쳐짐 (ReLU)\n",
    "   - 마지막으로 784차원으로 변환됨 (e.g. MNIST 이미지는 28^2)\n",
    " - D\n",
    "   - x는 240 unit과 5piece짜리 maxout layer,  \n",
    "     y는 50 unit과 5piece짜리 maxout layer로 매핑됨\n",
    "   - 240 unit, 5piece짜리 maxout layer로 합쳐진 후 Sigmoid"
   ]
  },
  {
   "cell_type": "markdown",
   "metadata": {},
   "source": [
    "### 설명 약간\n",
    " - Conditional GAN은 GAN의 출력물에 처음으로 조건을 주어 통제하려는 시도에서 만들어짐\n",
    " - 기존 GAN : noise vector를 받아들여서 출력물을 만들어내는데, 이를 사람이 통제 불가했음\n",
    " - e.g) 기존 GAN으로 mnist 손글씨 숫자 데이터셋을 훈련시켰을 때  \n",
    "        결과물은 random noise vector값에 따라 무작위 손글씨임 (특정 숫자 출력x)\n",
    "        CGAN에서는 숫자 5를 출력(Condition)하고자 할 때, 기존 GAN에 노이즈 벡터와\n",
    "        더불어 Condition C를 넣어준다. >> 결과물을 특정 숫자로 출력 가능.(e.g.5)"
   ]
  },
  {
   "cell_type": "code",
   "execution_count": null,
   "metadata": {},
   "outputs": [],
   "source": []
  },
  {
   "cell_type": "code",
   "execution_count": null,
   "metadata": {},
   "outputs": [],
   "source": []
  },
  {
   "cell_type": "code",
   "execution_count": null,
   "metadata": {},
   "outputs": [],
   "source": []
  }
 ],
 "metadata": {
  "kernelspec": {
   "display_name": "Python 3",
   "language": "python",
   "name": "python3"
  },
  "language_info": {
   "codemirror_mode": {
    "name": "ipython",
    "version": 3
   },
   "file_extension": ".py",
   "mimetype": "text/x-python",
   "name": "python",
   "nbconvert_exporter": "python",
   "pygments_lexer": "ipython3",
   "version": "3.8.3"
  }
 },
 "nbformat": 4,
 "nbformat_minor": 4
}
