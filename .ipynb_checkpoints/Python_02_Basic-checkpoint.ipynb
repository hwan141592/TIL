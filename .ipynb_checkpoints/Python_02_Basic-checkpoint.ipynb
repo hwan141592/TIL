{
 "cells": [
  {
   "cell_type": "markdown",
   "metadata": {},
   "source": [
    "#### In this page...\n",
    " - if phrase"
   ]
  },
  {
   "cell_type": "markdown",
   "metadata": {},
   "source": [
    "Conditional Expression"
   ]
  },
  {
   "cell_type": "code",
   "execution_count": 3,
   "metadata": {},
   "outputs": [
    {
     "data": {
      "text/plain": [
       "0"
      ]
     },
     "execution_count": 3,
     "metadata": {},
     "output_type": "execute_result"
    }
   ],
   "source": [
    "x = 5 \n",
    "y = x if x==10 else 0\n",
    "y"
   ]
  },
  {
   "cell_type": "code",
   "execution_count": 6,
   "metadata": {},
   "outputs": [
    {
     "name": "stdout",
     "output_type": "stream",
     "text": [
      "true_1\n",
      "false_2\n",
      "false_3\n"
     ]
    }
   ],
   "source": [
    "if True:\n",
    "    print('true_1')\n",
    "else:\n",
    "    print('false_1')\n",
    "\n",
    "if False:\n",
    "    print('true_2')\n",
    "else:\n",
    "    print('false_2')\n",
    "    \n",
    "if None:\n",
    "    print('true_3')\n",
    "else:\n",
    "    print('false_3')"
   ]
  },
  {
   "cell_type": "code",
   "execution_count": 15,
   "metadata": {},
   "outputs": [
    {
     "name": "stdout",
     "output_type": "stream",
     "text": [
      "false_1\n",
      "true_2\n",
      "true_3\n",
      "true_4\n",
      "true_5\n"
     ]
    }
   ],
   "source": [
    "if 0 : print('true_1') \n",
    "else : print('false_1')\n",
    "    \n",
    "if 1 : print('true_2') \n",
    "else : print('false_2')\n",
    "\n",
    "if 13.5 : print('true_3') \n",
    "else : print('false_3')\n",
    "\n",
    "if 0x1F : print('true_4') \n",
    "else : print('false_4')\n",
    "\n",
    "if 0b1000 : print('true_5') \n",
    "else : print('false_5')"
   ]
  },
  {
   "cell_type": "code",
   "execution_count": 16,
   "metadata": {},
   "outputs": [
    {
     "name": "stdout",
     "output_type": "stream",
     "text": [
      "true_1\n",
      "false_2\n"
     ]
    }
   ],
   "source": [
    "if 'hi' : print('true_1') \n",
    "else : print('false_1')\n",
    "    \n",
    "if '' : print('true_2') \n",
    "else : print('false_2')"
   ]
  },
  {
   "cell_type": "markdown",
   "metadata": {},
   "source": [
    "#### Summary\n",
    " - return True : numbers(except 0), strings,...\n",
    " - return False : 0, None, '', [], (), {}, SET() ... "
   ]
  },
  {
   "cell_type": "code",
   "execution_count": 27,
   "metadata": {},
   "outputs": [
    {
     "name": "stdout",
     "output_type": "stream",
     "text": [
      "90 85 99 91\n",
      "pass\n"
     ]
    }
   ],
   "source": [
    "a,b,c,d = map(int, input().split())\n",
    "if 0<=a<=100 and 0<=b<=100 and 0<=c<=100 and 0<=d<=100 :    \n",
    "    if (a+b+c+d)/4 >= 80:\n",
    "        print('pass')\n",
    "    else:\n",
    "        print('non-pass')\n",
    "else :\n",
    "    print('wrong input')"
   ]
  },
  {
   "cell_type": "code",
   "execution_count": 35,
   "metadata": {},
   "outputs": [
    {
     "name": "stdout",
     "output_type": "stream",
     "text": [
      "6500\n"
     ]
    }
   ],
   "source": [
    "if 7<=age<=12 :\n",
    "    balance = balance - 650\n",
    "elif 13<=age<=18 :\n",
    "    balance = balance - 1050\n",
    "elif age>=19:\n",
    "    balance = balance - 1250\n",
    "\n",
    "print(balance)"
   ]
  },
  {
   "cell_type": "code",
   "execution_count": null,
   "metadata": {},
   "outputs": [],
   "source": []
  }
 ],
 "metadata": {
  "kernelspec": {
   "display_name": "Python 3",
   "language": "python",
   "name": "python3"
  },
  "language_info": {
   "codemirror_mode": {
    "name": "ipython",
    "version": 3
   },
   "file_extension": ".py",
   "mimetype": "text/x-python",
   "name": "python",
   "nbconvert_exporter": "python",
   "pygments_lexer": "ipython3",
   "version": "3.8.3"
  }
 },
 "nbformat": 4,
 "nbformat_minor": 4
}
